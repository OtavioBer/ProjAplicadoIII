{
  "cells": [
    {
      "cell_type": "markdown",
      "metadata": {
        "id": "view-in-github",
        "colab_type": "text"
      },
      "source": [
        "<a href=\"https://colab.research.google.com/github/OtavioBer/ProjAplicadoIII/blob/OtavioBer-patch-1/Modelo_Recomendacao_Livros.ipynb\" target=\"_parent\"><img src=\"https://colab.research.google.com/assets/colab-badge.svg\" alt=\"Open In Colab\"/></a>"
      ]
    },
    {
      "cell_type": "markdown",
      "source": [
        "![image.png](data:image/png;base64,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)"
      ],
      "metadata": {
        "id": "ws4d_74vnNO4"
      }
    },
    {
      "cell_type": "markdown",
      "source": [
        "#<font color=blue>Projeto Aplicado III - Modelo de Recomendação de Livros"
      ],
      "metadata": {
        "id": "ZvvnWrvXoPqo"
      }
    },
    {
      "cell_type": "markdown",
      "source": [
        "CURSO: Tecnologia em Ciências de Dados\n",
        "\n",
        "SEMESTRE: 4º\n",
        "\n",
        "COMPONENTE CURRICULAR / TEMA: Projeto Aplicado III\n",
        "\n",
        "NOME DO PROFESSOR: THIAGO DONIZETTI DOS SANTOS\n",
        "\n",
        "INTEGRANTES E TIA:\n",
        "\n",
        "1. Caroline Ribeiro Ferreira - 10408052\n",
        "2. Lais César Fonseca - 10407066\n",
        "3. Leonardo dos Reis Olher – 10407752\n",
        "4. Liliane Gonçalves de Brito Ferraz - 10407087\n",
        "5. Múcio Emanuel Feitosa Ferraz Filho - 10218691\n",
        "6. Otavio Bernardo Scandiuzzi - 10407867"
      ],
      "metadata": {
        "id": "D89KIs6Noa-A"
      }
    },
    {
      "cell_type": "markdown",
      "source": [
        "##<font color=blue>OBJETIVO"
      ],
      "metadata": {
        "id": "2YXVP2nVogfy"
      }
    },
    {
      "cell_type": "markdown",
      "source": [
        "Implementar um sistema de recomendação de livros usando análise de dados e aprendizado de máquina, explorando diferentes abordagens para recomendação com base em características dos livros e preferências dos usuários.\n",
        "Passando por etapas de tratamento dos dados, técnica do modelo, prova de conceito e a forma de avaliação do desempenho."
      ],
      "metadata": {
        "id": "jLGYLRO_p0BK"
      }
    },
    {
      "cell_type": "markdown",
      "source": [
        "## 1. Importanto Bibliotecas e Dados"
      ],
      "metadata": {
        "id": "2JJsz0NCuU7e"
      }
    },
    {
      "cell_type": "code",
      "execution_count": null,
      "metadata": {
        "colab": {
          "base_uri": "https://localhost:8080/"
        },
        "id": "9wpLivxCTuHH",
        "outputId": "3c1287f6-1068-4b5e-efed-d16b9b29c2d2"
      },
      "outputs": [
        {
          "output_type": "stream",
          "name": "stdout",
          "text": [
            "Mounted at /content/drive\n"
          ]
        }
      ],
      "source": [
        "# Importando bibliotecas e pacotes a serem utilizados\n",
        "import pandas as pd\n",
        "import numpy as np\n",
        "import seaborn as sns\n",
        "import matplotlib.pyplot as plt\n",
        "import torch\n",
        "from torch import nn\n",
        "from torch.utils.data import DataLoader, Dataset\n",
        "from sklearn.preprocessing import LabelEncoder\n",
        "from sklearn.model_selection import train_test_split\n",
        "from IPython.display import Image, display, HTML\n",
        "import warnings; warnings.filterwarnings('ignore')\n",
        "from google.colab import drive\n",
        "drive.mount('/content/drive')"
      ]
    },
    {
      "cell_type": "code",
      "execution_count": null,
      "metadata": {
        "id": "yMNI2TMKTuHI",
        "colab": {
          "base_uri": "https://localhost:8080/"
        },
        "outputId": "e9d107c0-d271-45da-ff0a-a2a6c83b234e"
      },
      "outputs": [
        {
          "output_type": "stream",
          "name": "stdout",
          "text": [
            "False\n"
          ]
        }
      ],
      "source": [
        "#Verificar o nível de processamento do GPU\n",
        "print(torch.cuda.is_available())\n",
        "if torch.cuda.is_available():\n",
        "    print(torch.cuda.get_device_name(torch.cuda.current_device()))"
      ]
    },
    {
      "cell_type": "code",
      "source": [
        "# CARREGAR OS DADOS DE USUARIOS, CLASSIFICAÇÃO E LIVROS\n",
        "users = pd.read_csv(\"/content/drive/My Drive/Projeto Aplicado III/BX-Users.csv\", encoding=\"ISO-8859-1\", sep=\";\")\n",
        "ratings = pd.read_csv(\"/content/drive/My Drive/Projeto Aplicado III/BX-Book-Ratings.csv\", encoding=\"ISO-8859-1\", sep=\";\")\n",
        "books = pd.read_csv(\"/content/drive/My Drive/Projeto Aplicado III/BX_Books.csv\", encoding=\"ISO-8859-1\", sep=\";\")"
      ],
      "metadata": {
        "id": "3DcHbCxOufs_"
      },
      "execution_count": null,
      "outputs": []
    },
    {
      "cell_type": "markdown",
      "source": [
        "## 2. Tratamento e Limpeza dos Dados"
      ],
      "metadata": {
        "id": "a_Vx5t9qvKB9"
      }
    },
    {
      "cell_type": "markdown",
      "source": [
        "Realizar a limpeza, pré-processamento e transformação dos dados brutos em um formato adequado para análise, incluindo remoção de duplicidades e/ou valores ausentes e adequação de variáveis categóricas."
      ],
      "metadata": {
        "id": "Ip2Oq3DqvoZ1"
      }
    },
    {
      "cell_type": "code",
      "execution_count": null,
      "metadata": {
        "id": "b4UsGdUNTuHJ"
      },
      "outputs": [],
      "source": [
        "# SEPARAR PAIS DO LOCATION\n",
        "users['Country'] = users['Location'].apply(lambda x: x.split(', ')[-1])\n",
        "\n",
        "# UNIR BASES\n",
        "df = ratings\\\n",
        "    .merge(users, how='inner', on='User-ID')\\\n",
        "    .merge(books, how='inner', on='ISBN')\n",
        "\n",
        "# LIMPEZA DE DADOS\n",
        "df = df\\\n",
        "    .dropna()\\\n",
        "    .drop_duplicates()\\\n",
        "    .drop(['Location','Image-URL-M','Image-URL-L'], axis=1)\n",
        "\n",
        "# FILTRAR COLUNAS UTILIZADAS NO MODELO\n",
        "cols = ['User-ID','ISBN','Book-Author','Year-Of-Publication','Publisher','Country','Age','Book-Rating']\n",
        "avaliacoes = df[cols]\n",
        "avaliacoes.reset_index(drop=True, inplace=True)"
      ]
    },
    {
      "cell_type": "markdown",
      "source": [
        "## 3. Implementação do Modelo"
      ],
      "metadata": {
        "id": "F4sxVucPxLSI"
      }
    },
    {
      "cell_type": "markdown",
      "source": [
        "O modelo de recomendação é implementado usando redes neurais profundas (DNN). Ele usa embeddings para representar usuários e livros, que são aprendidos durante o treinamento."
      ],
      "metadata": {
        "id": "-YWvGuOgzOOo"
      }
    },
    {
      "cell_type": "code",
      "execution_count": null,
      "metadata": {
        "id": "44H_YLU3TuHK"
      },
      "outputs": [],
      "source": [
        "# MODELO DE RECOMENDAÇÃO\n",
        "class ModeloRecomendacao(nn.Module):\n",
        "\n",
        "    def __init__(self, ns, embedding_dim):\n",
        "\n",
        "        super().__init__()\n",
        "        self.user         = nn.Embedding(ns[0], embedding_dim)\n",
        "        self.book         = nn.Embedding(ns[1], embedding_dim)\n",
        "        self.autor        = nn.Embedding(ns[2], embedding_dim)\n",
        "        self.year         = nn.Embedding(ns[3], embedding_dim)\n",
        "        self.publisher    = nn.Embedding(ns[4], embedding_dim)\n",
        "        self.country      = nn.Embedding(ns[5], embedding_dim)\n",
        "        self.age          = nn.Embedding(ns[6], embedding_dim)\n",
        "\n",
        "        self.layers       = nn.Sequential(\n",
        "\n",
        "            nn.Linear(embedding_dim, 6),\n",
        "            nn.ReLU(),\n",
        "            nn.Linear(6, 3),\n",
        "            nn.ReLU(),\n",
        "            nn.Linear(3, 1)\n",
        "\n",
        "        )\n",
        "\n",
        "\n",
        "    def forward(self, user, book, autor, year, publisher, country, age):\n",
        "\n",
        "        user_       = self.user(user.long())\n",
        "        book_       = self.book(book.long())\n",
        "        autor_      = self.autor(autor.long())\n",
        "        year_       = self.year(year.long())\n",
        "        publisher_  = self.publisher(publisher.long())\n",
        "        country_    = self.country(country.long())\n",
        "        age_        = self.age(age.long())\n",
        "        x           = torch.cat([user_, book_, age_, autor_, year_, publisher_, country_], dim=1)\n",
        "        output      = self.layers(x)\n",
        "        return output\n",
        "\n",
        "\n",
        "# TRANSFORMAR DF EM TENSORES\n",
        "class AvaliacoesDataset(Dataset):\n",
        "    def __init__(self, dataframe):\n",
        "        self.data = dataframe\n",
        "\n",
        "    def __len__(self):\n",
        "        return len(self.data)\n",
        "\n",
        "    def __getitem__(self, i):\n",
        "        X = self.data.iloc[i, :-1].values\n",
        "        Y = self.data.iloc[i, -1]\n",
        "\n",
        "        X = torch.tensor(X, dtype=torch.float32)\n",
        "        Y = torch.tensor(Y, dtype=torch.float32)\n",
        "\n",
        "        return X, Y\n",
        "\n",
        "# CODIFICAR DADOS\n",
        "def encoder_df(df):\n",
        "    enc = {}\n",
        "    df_enc = {}\n",
        "\n",
        "    for col in df.columns.tolist():\n",
        "        enc[col] = LabelEncoder().fit(df[col])\n",
        "        df_enc[col] = enc[col].transform(df[col])\n",
        "\n",
        "    df_enc = pd.DataFrame(df_enc)\n",
        "    return enc, df_enc\n",
        "\n",
        "\n",
        "# CODIFICAR PREDIÇÃO\n",
        "def predict_encoder(df, enc):\n",
        "\n",
        "    predict_enc = {}\n",
        "\n",
        "    for col in df.columns.tolist():\n",
        "\n",
        "        try:\n",
        "            predict_enc[col] = enc[col].transform(df[col])\n",
        "\n",
        "        except:\n",
        "            continue\n",
        "\n",
        "    return pd.DataFrame(predict_enc)"
      ]
    },
    {
      "cell_type": "markdown",
      "source": [
        "A implantação deste código visa treinar o modelo para prever a preferência de um usuário por um livro com base em características."
      ],
      "metadata": {
        "id": "o6Z5mxMaAE3c"
      }
    },
    {
      "cell_type": "code",
      "execution_count": null,
      "metadata": {
        "id": "dLoG9n2YTuHK"
      },
      "outputs": [],
      "source": [
        "# DEVICE\n",
        "device = 'cuda' if torch.cuda.is_available() else 'cpu'\n",
        "\n",
        "# CODIFICAR DADOS\n",
        "enc, df_enc = encoder_df(avaliacoes)\n",
        "\n",
        "# SPLIT TREINO TESTE\n",
        "train, test = train_test_split(df_enc, test_size=.2)\n",
        "\n",
        "# HIPERPAMETROS\n",
        "ns = []\n",
        "for col in cols:\n",
        "    ns.append(len(enc[col].classes_))\n",
        "embedding_dim = 14\n",
        "lr=1e-3\n",
        "load_checkpoint = False\n",
        "\n",
        "# Modelo de Recomendação\n",
        "model = ModeloRecomendacao(ns, embedding_dim).to(device)\n",
        "\n",
        "# Otimizador\n",
        "optimizer = torch.optim.Adam(model.parameters(), lr=lr)\n",
        "\n",
        "# Load Model\n",
        "if load_checkpoint:\n",
        "    loaded = torch.load('model.pth.tar')\n",
        "    model.load_state_dict(loaded['state_dict'])\n",
        "    optimizer.load_state_dict(loaded['optimizer'])\n",
        "\n",
        "\n",
        "# Mean Squared Error\n",
        "lossfunc = nn.MSELoss()\n",
        "\n",
        "# DataSet\n",
        "train_dataset = AvaliacoesDataset(train)\n",
        "test_dataset = AvaliacoesDataset(test)\n",
        "\n",
        "# DataLoader\n",
        "train_dataloader = DataLoader(train_dataset, batch_size=1000, shuffle=True)\n",
        "test_dataloader = DataLoader(test_dataset, batch_size=1000, shuffle=True)"
      ]
    },
    {
      "cell_type": "markdown",
      "source": [
        "## 4. Prova de Conceito (PoC)"
      ],
      "metadata": {
        "id": "OZsG03q1xfL4"
      }
    },
    {
      "cell_type": "markdown",
      "source": [
        "O modelo é treinado utilizando um conjunto de dados que consiste em avaliações de usuários sobre livros. Durante o treinamento, o modelo aprende a prever a avaliação que um usuário daria a um livro específico com base em várias características do livro e do usuário."
      ],
      "metadata": {
        "id": "Te8JVjkszb5h"
      }
    },
    {
      "cell_type": "code",
      "execution_count": null,
      "metadata": {
        "colab": {
          "base_uri": "https://localhost:8080/"
        },
        "id": "AjfeblvFTuHK",
        "outputId": "766c6189-4a20-4f55-fd50-01d390c455d0"
      },
      "outputs": [
        {
          "output_type": "stream",
          "name": "stdout",
          "text": [
            "Epochs:          0 | Train Loss:  15.07\n",
            "Epochs:          5 | Train Loss:  10.26\n",
            "Epochs:         10 | Train Loss:   8.48\n",
            "Epochs:         15 | Train Loss:   7.62\n",
            "Epochs:         20 | Train Loss:   7.19\n",
            "Epochs:         25 | Train Loss:   6.97\n",
            "Epochs:         30 | Train Loss:   6.85\n",
            "Epochs:         35 | Train Loss:   6.78\n",
            "Epochs:         40 | Train Loss:   6.73\n",
            "Epochs:         45 | Train Loss:   6.70\n",
            "Epochs:         50 | Train Loss:   6.67\n",
            "Epochs:         55 | Train Loss:   6.65\n",
            "Epochs:         60 | Train Loss:   6.64\n",
            "Epochs:         65 | Train Loss:   6.62\n",
            "Epochs:         70 | Train Loss:   6.61\n",
            "Epochs:         75 | Train Loss:   6.60\n",
            "Epochs:         80 | Train Loss:   6.59\n",
            "Epochs:         85 | Train Loss:   6.58\n",
            "Epochs:         90 | Train Loss:   6.58\n",
            "Epochs:         95 | Train Loss:   6.57\n",
            "Epochs:        100 | Train Loss:   6.57\n"
          ]
        }
      ],
      "source": [
        "# TREINO MODELO\n",
        "epochs=101\n",
        "\n",
        "for epoch in range(epochs):\n",
        "    train_loss = 0.0\n",
        "\n",
        "    for x, y in train_dataloader:\n",
        "        # X\n",
        "        user        = torch.Tensor(x[:,0]).float().unsqueeze(1).to(device)\n",
        "        book        = torch.Tensor(x[:,1]).float().unsqueeze(1).to(device)\n",
        "        autor       = torch.Tensor(x[:,2]).float().unsqueeze(1).to(device)\n",
        "        year        = torch.Tensor(x[:,3]).float().unsqueeze(1).to(device)\n",
        "        publisher   = torch.Tensor(x[:,4]).float().unsqueeze(1).to(device)\n",
        "        country     = torch.Tensor(x[:,5]).float().unsqueeze(1).to(device)\n",
        "        age         = torch.Tensor(x[:,6]).float().unsqueeze(1).to(device)\n",
        "        # y\n",
        "        rating      = torch.Tensor(y).float().unsqueeze(1).to(device)\n",
        "\n",
        "        optimizer.zero_grad()\n",
        "        output = model.forward(user, book, autor, year, publisher, country, age).to(device).sum(dim=1)\n",
        "        loss = lossfunc(output, rating)\n",
        "        loss.backward()\n",
        "        optimizer.step()\n",
        "        train_loss += loss.item()\n",
        "\n",
        "    if epoch % 5 == 0:\n",
        "        checkpoint = {'state_dict':model.state_dict(), 'optimizer':optimizer.state_dict()}\n",
        "        torch.save(checkpoint, 'model.pth.tar')\n",
        "        print(f'Epochs: {epoch:>10} | Train Loss: {train_loss/len(train_dataloader):>6.2f}')"
      ]
    },
    {
      "cell_type": "markdown",
      "source": [
        "## 5. Avaliação de Desempenho do Modelo"
      ],
      "metadata": {
        "id": "dNR2U9yhx0T4"
      }
    },
    {
      "cell_type": "markdown",
      "source": [
        "O desempenho do modelo é avaliado usando a métrica de erro quadrático médio (MSE) calculada sobre um conjunto de dados de teste separado. Quanto menor o MSE, melhor é o desempenho do modelo em prever as avaliações dos usuários."
      ],
      "metadata": {
        "id": "VlC-Xcc6zhaQ"
      }
    },
    {
      "cell_type": "code",
      "execution_count": null,
      "metadata": {
        "colab": {
          "base_uri": "https://localhost:8080/"
        },
        "id": "nPSxGn1_TuHL",
        "outputId": "b98ff9a8-a019-4e0d-e9b2-f671b03092ff"
      },
      "outputs": [
        {
          "output_type": "stream",
          "name": "stdout",
          "text": [
            "Test Loss: 14.482713\n"
          ]
        }
      ],
      "source": [
        "# AVALIAÇÃO DO MODELO\n",
        "model.eval()\n",
        "test_loss = 0.0\n",
        "with torch.no_grad():\n",
        "    for x, y in test_dataloader:\n",
        "        # X\n",
        "        user        = torch.Tensor(x[:,0]).float().unsqueeze(1).to(device)\n",
        "        book        = torch.Tensor(x[:,1]).float().unsqueeze(1).to(device)\n",
        "        autor       = torch.Tensor(x[:,2]).float().unsqueeze(1).to(device)\n",
        "        year        = torch.Tensor(x[:,3]).float().unsqueeze(1).to(device)\n",
        "        publisher   = torch.Tensor(x[:,4]).float().unsqueeze(1).to(device)\n",
        "        country     = torch.Tensor(x[:,5]).float().unsqueeze(1).to(device)\n",
        "        age         = torch.Tensor(x[:,6]).float().unsqueeze(1).to(device)\n",
        "        # y\n",
        "        rating      = torch.Tensor(y).float().unsqueeze(1).to(device)\n",
        "        # output\n",
        "        output      = model.forward(user, book, autor, year, publisher, country, age).to(device).sum(dim=1)\n",
        "        test_loss  += lossfunc(output, rating).item()\n",
        "\n",
        "print(f'Test Loss: {test_loss/len(test_dataloader):2f}')"
      ]
    },
    {
      "cell_type": "markdown",
      "source": [
        "## 5. Implemetação do Modelo"
      ],
      "metadata": {
        "id": "Pv-bTaYlDGQQ"
      }
    },
    {
      "cell_type": "markdown",
      "source": [
        "A implementação deste código visa a recomendação de livros para um usuário específico, apresento o resultado de indicação de livros que esteja de acordo com a sua preferência."
      ],
      "metadata": {
        "id": "kvXXfEx9BeM4"
      }
    },
    {
      "cell_type": "code",
      "execution_count": null,
      "metadata": {
        "id": "eMRrkaaiTuHL",
        "outputId": "ffa11489-0075-4ca4-a2c3-782dfea3836f",
        "colab": {
          "base_uri": "https://localhost:8080/",
          "height": 379
        }
      },
      "outputs": [
        {
          "output_type": "execute_result",
          "data": {
            "text/plain": [
              "                                               Book-Title        ISBN  \\\n",
              "188520  Human Diversity In Education: An Integrative A...  0070150672   \n",
              "169984    The Swiftness of Crows: Poems of Two Continents  0934910065   \n",
              "129052       The Protocols (TCP/IP Illustrated, Volume 1)  0201633469   \n",
              "188361  The Facts of Life: Stories, 1940-1949 (His the...  0876853564   \n",
              "215187  Bury Me With Soldiers: One Grunt's Honest Stor...  1410706575   \n",
              "\n",
              "                                              Image-URL-S         Book-Author  \\\n",
              "188520  http://images.amazon.com/images/P/0070150672.0...     Kenneth Cushner   \n",
              "169984  http://images.amazon.com/images/P/0934910065.0...          Nancy Wall   \n",
              "129052  http://images.amazon.com/images/P/0201633469.0...  W. Richard Stevens   \n",
              "188361  http://images.amazon.com/images/P/0876853564.0...        Paul Goodman   \n",
              "215187  http://images.amazon.com/images/P/1410706575.0...    C. W. Standiford   \n",
              "\n",
              "        Year-Of-Publication                    Publisher  User-ID Country  \\\n",
              "188520                 1996        McGraw-Hill Companies    28523     usa   \n",
              "169984                 1999              Moon Pony Press    28523     usa   \n",
              "129052                 1994  Addison-Wesley Professional    28523     usa   \n",
              "188361                 1979           David R Godine Pub    28523     usa   \n",
              "215187                 2003                  Authorhouse    28523     usa   \n",
              "\n",
              "         Age  PREDICT RATING  \n",
              "188520  24.0       11.967375  \n",
              "169984  24.0       11.206444  \n",
              "129052  24.0       11.119248  \n",
              "188361  24.0       10.700144  \n",
              "215187  24.0       10.636484  "
            ],
            "text/html": [
              "\n",
              "  <div id=\"df-86a32e29-6992-4a57-900c-a00c4ef4381d\" class=\"colab-df-container\">\n",
              "    <div>\n",
              "<style scoped>\n",
              "    .dataframe tbody tr th:only-of-type {\n",
              "        vertical-align: middle;\n",
              "    }\n",
              "\n",
              "    .dataframe tbody tr th {\n",
              "        vertical-align: top;\n",
              "    }\n",
              "\n",
              "    .dataframe thead th {\n",
              "        text-align: right;\n",
              "    }\n",
              "</style>\n",
              "<table border=\"1\" class=\"dataframe\">\n",
              "  <thead>\n",
              "    <tr style=\"text-align: right;\">\n",
              "      <th></th>\n",
              "      <th>Book-Title</th>\n",
              "      <th>ISBN</th>\n",
              "      <th>Image-URL-S</th>\n",
              "      <th>Book-Author</th>\n",
              "      <th>Year-Of-Publication</th>\n",
              "      <th>Publisher</th>\n",
              "      <th>User-ID</th>\n",
              "      <th>Country</th>\n",
              "      <th>Age</th>\n",
              "      <th>PREDICT RATING</th>\n",
              "    </tr>\n",
              "  </thead>\n",
              "  <tbody>\n",
              "    <tr>\n",
              "      <th>188520</th>\n",
              "      <td>Human Diversity In Education: An Integrative A...</td>\n",
              "      <td>0070150672</td>\n",
              "      <td>http://images.amazon.com/images/P/0070150672.0...</td>\n",
              "      <td>Kenneth Cushner</td>\n",
              "      <td>1996</td>\n",
              "      <td>McGraw-Hill Companies</td>\n",
              "      <td>28523</td>\n",
              "      <td>usa</td>\n",
              "      <td>24.0</td>\n",
              "      <td>11.967375</td>\n",
              "    </tr>\n",
              "    <tr>\n",
              "      <th>169984</th>\n",
              "      <td>The Swiftness of Crows: Poems of Two Continents</td>\n",
              "      <td>0934910065</td>\n",
              "      <td>http://images.amazon.com/images/P/0934910065.0...</td>\n",
              "      <td>Nancy Wall</td>\n",
              "      <td>1999</td>\n",
              "      <td>Moon Pony Press</td>\n",
              "      <td>28523</td>\n",
              "      <td>usa</td>\n",
              "      <td>24.0</td>\n",
              "      <td>11.206444</td>\n",
              "    </tr>\n",
              "    <tr>\n",
              "      <th>129052</th>\n",
              "      <td>The Protocols (TCP/IP Illustrated, Volume 1)</td>\n",
              "      <td>0201633469</td>\n",
              "      <td>http://images.amazon.com/images/P/0201633469.0...</td>\n",
              "      <td>W. Richard Stevens</td>\n",
              "      <td>1994</td>\n",
              "      <td>Addison-Wesley Professional</td>\n",
              "      <td>28523</td>\n",
              "      <td>usa</td>\n",
              "      <td>24.0</td>\n",
              "      <td>11.119248</td>\n",
              "    </tr>\n",
              "    <tr>\n",
              "      <th>188361</th>\n",
              "      <td>The Facts of Life: Stories, 1940-1949 (His the...</td>\n",
              "      <td>0876853564</td>\n",
              "      <td>http://images.amazon.com/images/P/0876853564.0...</td>\n",
              "      <td>Paul Goodman</td>\n",
              "      <td>1979</td>\n",
              "      <td>David R Godine Pub</td>\n",
              "      <td>28523</td>\n",
              "      <td>usa</td>\n",
              "      <td>24.0</td>\n",
              "      <td>10.700144</td>\n",
              "    </tr>\n",
              "    <tr>\n",
              "      <th>215187</th>\n",
              "      <td>Bury Me With Soldiers: One Grunt's Honest Stor...</td>\n",
              "      <td>1410706575</td>\n",
              "      <td>http://images.amazon.com/images/P/1410706575.0...</td>\n",
              "      <td>C. W. Standiford</td>\n",
              "      <td>2003</td>\n",
              "      <td>Authorhouse</td>\n",
              "      <td>28523</td>\n",
              "      <td>usa</td>\n",
              "      <td>24.0</td>\n",
              "      <td>10.636484</td>\n",
              "    </tr>\n",
              "  </tbody>\n",
              "</table>\n",
              "</div>\n",
              "    <div class=\"colab-df-buttons\">\n",
              "\n",
              "  <div class=\"colab-df-container\">\n",
              "    <button class=\"colab-df-convert\" onclick=\"convertToInteractive('df-86a32e29-6992-4a57-900c-a00c4ef4381d')\"\n",
              "            title=\"Convert this dataframe to an interactive table.\"\n",
              "            style=\"display:none;\">\n",
              "\n",
              "  <svg xmlns=\"http://www.w3.org/2000/svg\" height=\"24px\" viewBox=\"0 -960 960 960\">\n",
              "    <path d=\"M120-120v-720h720v720H120Zm60-500h600v-160H180v160Zm220 220h160v-160H400v160Zm0 220h160v-160H400v160ZM180-400h160v-160H180v160Zm440 0h160v-160H620v160ZM180-180h160v-160H180v160Zm440 0h160v-160H620v160Z\"/>\n",
              "  </svg>\n",
              "    </button>\n",
              "\n",
              "  <style>\n",
              "    .colab-df-container {\n",
              "      display:flex;\n",
              "      gap: 12px;\n",
              "    }\n",
              "\n",
              "    .colab-df-convert {\n",
              "      background-color: #E8F0FE;\n",
              "      border: none;\n",
              "      border-radius: 50%;\n",
              "      cursor: pointer;\n",
              "      display: none;\n",
              "      fill: #1967D2;\n",
              "      height: 32px;\n",
              "      padding: 0 0 0 0;\n",
              "      width: 32px;\n",
              "    }\n",
              "\n",
              "    .colab-df-convert:hover {\n",
              "      background-color: #E2EBFA;\n",
              "      box-shadow: 0px 1px 2px rgba(60, 64, 67, 0.3), 0px 1px 3px 1px rgba(60, 64, 67, 0.15);\n",
              "      fill: #174EA6;\n",
              "    }\n",
              "\n",
              "    .colab-df-buttons div {\n",
              "      margin-bottom: 4px;\n",
              "    }\n",
              "\n",
              "    [theme=dark] .colab-df-convert {\n",
              "      background-color: #3B4455;\n",
              "      fill: #D2E3FC;\n",
              "    }\n",
              "\n",
              "    [theme=dark] .colab-df-convert:hover {\n",
              "      background-color: #434B5C;\n",
              "      box-shadow: 0px 1px 3px 1px rgba(0, 0, 0, 0.15);\n",
              "      filter: drop-shadow(0px 1px 2px rgba(0, 0, 0, 0.3));\n",
              "      fill: #FFFFFF;\n",
              "    }\n",
              "  </style>\n",
              "\n",
              "    <script>\n",
              "      const buttonEl =\n",
              "        document.querySelector('#df-86a32e29-6992-4a57-900c-a00c4ef4381d button.colab-df-convert');\n",
              "      buttonEl.style.display =\n",
              "        google.colab.kernel.accessAllowed ? 'block' : 'none';\n",
              "\n",
              "      async function convertToInteractive(key) {\n",
              "        const element = document.querySelector('#df-86a32e29-6992-4a57-900c-a00c4ef4381d');\n",
              "        const dataTable =\n",
              "          await google.colab.kernel.invokeFunction('convertToInteractive',\n",
              "                                                    [key], {});\n",
              "        if (!dataTable) return;\n",
              "\n",
              "        const docLinkHtml = 'Like what you see? Visit the ' +\n",
              "          '<a target=\"_blank\" href=https://colab.research.google.com/notebooks/data_table.ipynb>data table notebook</a>'\n",
              "          + ' to learn more about interactive tables.';\n",
              "        element.innerHTML = '';\n",
              "        dataTable['output_type'] = 'display_data';\n",
              "        await google.colab.output.renderOutput(dataTable, element);\n",
              "        const docLink = document.createElement('div');\n",
              "        docLink.innerHTML = docLinkHtml;\n",
              "        element.appendChild(docLink);\n",
              "      }\n",
              "    </script>\n",
              "  </div>\n",
              "\n",
              "\n",
              "<div id=\"df-68e5397c-88b5-4b7c-8810-080ffb056d70\">\n",
              "  <button class=\"colab-df-quickchart\" onclick=\"quickchart('df-68e5397c-88b5-4b7c-8810-080ffb056d70')\"\n",
              "            title=\"Suggest charts\"\n",
              "            style=\"display:none;\">\n",
              "\n",
              "<svg xmlns=\"http://www.w3.org/2000/svg\" height=\"24px\"viewBox=\"0 0 24 24\"\n",
              "     width=\"24px\">\n",
              "    <g>\n",
              "        <path d=\"M19 3H5c-1.1 0-2 .9-2 2v14c0 1.1.9 2 2 2h14c1.1 0 2-.9 2-2V5c0-1.1-.9-2-2-2zM9 17H7v-7h2v7zm4 0h-2V7h2v10zm4 0h-2v-4h2v4z\"/>\n",
              "    </g>\n",
              "</svg>\n",
              "  </button>\n",
              "\n",
              "<style>\n",
              "  .colab-df-quickchart {\n",
              "      --bg-color: #E8F0FE;\n",
              "      --fill-color: #1967D2;\n",
              "      --hover-bg-color: #E2EBFA;\n",
              "      --hover-fill-color: #174EA6;\n",
              "      --disabled-fill-color: #AAA;\n",
              "      --disabled-bg-color: #DDD;\n",
              "  }\n",
              "\n",
              "  [theme=dark] .colab-df-quickchart {\n",
              "      --bg-color: #3B4455;\n",
              "      --fill-color: #D2E3FC;\n",
              "      --hover-bg-color: #434B5C;\n",
              "      --hover-fill-color: #FFFFFF;\n",
              "      --disabled-bg-color: #3B4455;\n",
              "      --disabled-fill-color: #666;\n",
              "  }\n",
              "\n",
              "  .colab-df-quickchart {\n",
              "    background-color: var(--bg-color);\n",
              "    border: none;\n",
              "    border-radius: 50%;\n",
              "    cursor: pointer;\n",
              "    display: none;\n",
              "    fill: var(--fill-color);\n",
              "    height: 32px;\n",
              "    padding: 0;\n",
              "    width: 32px;\n",
              "  }\n",
              "\n",
              "  .colab-df-quickchart:hover {\n",
              "    background-color: var(--hover-bg-color);\n",
              "    box-shadow: 0 1px 2px rgba(60, 64, 67, 0.3), 0 1px 3px 1px rgba(60, 64, 67, 0.15);\n",
              "    fill: var(--button-hover-fill-color);\n",
              "  }\n",
              "\n",
              "  .colab-df-quickchart-complete:disabled,\n",
              "  .colab-df-quickchart-complete:disabled:hover {\n",
              "    background-color: var(--disabled-bg-color);\n",
              "    fill: var(--disabled-fill-color);\n",
              "    box-shadow: none;\n",
              "  }\n",
              "\n",
              "  .colab-df-spinner {\n",
              "    border: 2px solid var(--fill-color);\n",
              "    border-color: transparent;\n",
              "    border-bottom-color: var(--fill-color);\n",
              "    animation:\n",
              "      spin 1s steps(1) infinite;\n",
              "  }\n",
              "\n",
              "  @keyframes spin {\n",
              "    0% {\n",
              "      border-color: transparent;\n",
              "      border-bottom-color: var(--fill-color);\n",
              "      border-left-color: var(--fill-color);\n",
              "    }\n",
              "    20% {\n",
              "      border-color: transparent;\n",
              "      border-left-color: var(--fill-color);\n",
              "      border-top-color: var(--fill-color);\n",
              "    }\n",
              "    30% {\n",
              "      border-color: transparent;\n",
              "      border-left-color: var(--fill-color);\n",
              "      border-top-color: var(--fill-color);\n",
              "      border-right-color: var(--fill-color);\n",
              "    }\n",
              "    40% {\n",
              "      border-color: transparent;\n",
              "      border-right-color: var(--fill-color);\n",
              "      border-top-color: var(--fill-color);\n",
              "    }\n",
              "    60% {\n",
              "      border-color: transparent;\n",
              "      border-right-color: var(--fill-color);\n",
              "    }\n",
              "    80% {\n",
              "      border-color: transparent;\n",
              "      border-right-color: var(--fill-color);\n",
              "      border-bottom-color: var(--fill-color);\n",
              "    }\n",
              "    90% {\n",
              "      border-color: transparent;\n",
              "      border-bottom-color: var(--fill-color);\n",
              "    }\n",
              "  }\n",
              "</style>\n",
              "\n",
              "  <script>\n",
              "    async function quickchart(key) {\n",
              "      const quickchartButtonEl =\n",
              "        document.querySelector('#' + key + ' button');\n",
              "      quickchartButtonEl.disabled = true;  // To prevent multiple clicks.\n",
              "      quickchartButtonEl.classList.add('colab-df-spinner');\n",
              "      try {\n",
              "        const charts = await google.colab.kernel.invokeFunction(\n",
              "            'suggestCharts', [key], {});\n",
              "      } catch (error) {\n",
              "        console.error('Error during call to suggestCharts:', error);\n",
              "      }\n",
              "      quickchartButtonEl.classList.remove('colab-df-spinner');\n",
              "      quickchartButtonEl.classList.add('colab-df-quickchart-complete');\n",
              "    }\n",
              "    (() => {\n",
              "      let quickchartButtonEl =\n",
              "        document.querySelector('#df-68e5397c-88b5-4b7c-8810-080ffb056d70 button');\n",
              "      quickchartButtonEl.style.display =\n",
              "        google.colab.kernel.accessAllowed ? 'block' : 'none';\n",
              "    })();\n",
              "  </script>\n",
              "</div>\n",
              "    </div>\n",
              "  </div>\n"
            ],
            "application/vnd.google.colaboratory.intrinsic+json": {
              "type": "dataframe",
              "variable_name": "recomendacao",
              "summary": "{\n  \"name\": \"recomendacao\",\n  \"rows\": 5,\n  \"fields\": [\n    {\n      \"column\": \"Book-Title\",\n      \"properties\": {\n        \"dtype\": \"string\",\n        \"num_unique_values\": 5,\n        \"samples\": [\n          \"The Swiftness of Crows: Poems of Two Continents\",\n          \"Bury Me With Soldiers: One Grunt's Honest Story About Vietnam\",\n          \"The Protocols (TCP/IP Illustrated, Volume 1)\"\n        ],\n        \"semantic_type\": \"\",\n        \"description\": \"\"\n      }\n    },\n    {\n      \"column\": \"ISBN\",\n      \"properties\": {\n        \"dtype\": \"string\",\n        \"num_unique_values\": 5,\n        \"samples\": [\n          \"0934910065\",\n          \"1410706575\",\n          \"0201633469\"\n        ],\n        \"semantic_type\": \"\",\n        \"description\": \"\"\n      }\n    },\n    {\n      \"column\": \"Image-URL-S\",\n      \"properties\": {\n        \"dtype\": \"string\",\n        \"num_unique_values\": 5,\n        \"samples\": [\n          \"http://images.amazon.com/images/P/0934910065.01.THUMBZZZ.jpg\",\n          \"http://images.amazon.com/images/P/1410706575.01.THUMBZZZ.jpg\",\n          \"http://images.amazon.com/images/P/0201633469.01.THUMBZZZ.jpg\"\n        ],\n        \"semantic_type\": \"\",\n        \"description\": \"\"\n      }\n    },\n    {\n      \"column\": \"Book-Author\",\n      \"properties\": {\n        \"dtype\": \"string\",\n        \"num_unique_values\": 5,\n        \"samples\": [\n          \"Nancy Wall\",\n          \"C. W. Standiford\",\n          \"W. Richard Stevens\"\n        ],\n        \"semantic_type\": \"\",\n        \"description\": \"\"\n      }\n    },\n    {\n      \"column\": \"Year-Of-Publication\",\n      \"properties\": {\n        \"dtype\": \"number\",\n        \"std\": 9,\n        \"min\": 1979,\n        \"max\": 2003,\n        \"num_unique_values\": 5,\n        \"samples\": [\n          1999,\n          2003,\n          1994\n        ],\n        \"semantic_type\": \"\",\n        \"description\": \"\"\n      }\n    },\n    {\n      \"column\": \"Publisher\",\n      \"properties\": {\n        \"dtype\": \"string\",\n        \"num_unique_values\": 5,\n        \"samples\": [\n          \"Moon Pony Press\",\n          \"Authorhouse\",\n          \"Addison-Wesley Professional\"\n        ],\n        \"semantic_type\": \"\",\n        \"description\": \"\"\n      }\n    },\n    {\n      \"column\": \"User-ID\",\n      \"properties\": {\n        \"dtype\": \"number\",\n        \"std\": 0,\n        \"min\": 28523,\n        \"max\": 28523,\n        \"num_unique_values\": 1,\n        \"samples\": [\n          28523\n        ],\n        \"semantic_type\": \"\",\n        \"description\": \"\"\n      }\n    },\n    {\n      \"column\": \"Country\",\n      \"properties\": {\n        \"dtype\": \"category\",\n        \"num_unique_values\": 1,\n        \"samples\": [\n          \"usa\"\n        ],\n        \"semantic_type\": \"\",\n        \"description\": \"\"\n      }\n    },\n    {\n      \"column\": \"Age\",\n      \"properties\": {\n        \"dtype\": \"number\",\n        \"std\": 0.0,\n        \"min\": 24.0,\n        \"max\": 24.0,\n        \"num_unique_values\": 1,\n        \"samples\": [\n          24.0\n        ],\n        \"semantic_type\": \"\",\n        \"description\": \"\"\n      }\n    },\n    {\n      \"column\": \"PREDICT RATING\",\n      \"properties\": {\n        \"dtype\": \"number\",\n        \"std\": 0.5327775303862922,\n        \"min\": 10.636484146118164,\n        \"max\": 11.967374801635742,\n        \"num_unique_values\": 5,\n        \"samples\": [\n          11.206443786621094\n        ],\n        \"semantic_type\": \"\",\n        \"description\": \"\"\n      }\n    }\n  ]\n}"
            }
          },
          "metadata": {},
          "execution_count": 9
        }
      ],
      "source": [
        "# 1º USUARIO QUE TERÁ RECOMENDAÇÃO\n",
        "user_id = 28523\n",
        "n_recomendacoes = 5\n",
        "\n",
        "assert user_id in avaliacoes['User-ID'].unique().tolist()\n",
        "\n",
        "# FILTRAR USUARIO NA BASE\n",
        "user_filter = users[users['User-ID'] == user_id].iloc[0].tolist()\n",
        "\n",
        "# RECOMENDAR LIVRO\n",
        "predict_data = books[['Book-Title','ISBN','Image-URL-S','Book-Author','Year-Of-Publication','Publisher']].drop_duplicates()\n",
        "\n",
        "# APENAS LIVROS TREINADOS PELO MODELO\n",
        "predict_data = predict_data[predict_data['ISBN'].isin(avaliacoes['ISBN'].unique().tolist())]\n",
        "\n",
        "# INCLUIR DADOS DO USER EM TODAS AS LINHAS\n",
        "predict_data['User-ID'] = user_id\n",
        "predict_data['Country'] = user_filter[3]\n",
        "predict_data['Age'] = user_filter[2]\n",
        "\n",
        "# REMOVER LIVROS JÁ AVALIDADOS PELO USUARIO\n",
        "books_list = avaliacoes[avaliacoes['User-ID'] == user_id]['ISBN']\n",
        "predict_data = predict_data[~predict_data['ISBN'].isin(books_list)].copy()\n",
        "predict_encoded = predict_encoder(predict_data, enc)\n",
        "\n",
        "# COLUNAS\n",
        "cols_pred = cols.copy()\n",
        "cols_pred.remove('Book-Rating')\n",
        "predict_encoded = predict_encoded[cols_pred]\n",
        "predict_encoded['y dummy'] = 0\n",
        "\n",
        "# DATASET\n",
        "predict_dataset = AvaliacoesDataset(predict_encoded)\n",
        "\n",
        "# DATALOADER\n",
        "predict_dataloader = DataLoader(predict_dataset)\n",
        "\n",
        "# RECOMENDAÇÃO DO MODELO\n",
        "model.eval()\n",
        "outputs = []\n",
        "with torch.no_grad():\n",
        "    for x, y in predict_dataloader:\n",
        "        # X\n",
        "        user        = torch.Tensor(x[:,0]).float().unsqueeze(1).to(device)\n",
        "        book        = torch.Tensor(x[:,1]).float().unsqueeze(1).to(device)\n",
        "        autor       = torch.Tensor(x[:,2]).float().unsqueeze(1).to(device)\n",
        "        year        = torch.Tensor(x[:,3]).float().unsqueeze(1).to(device)\n",
        "        publisher   = torch.Tensor(x[:,4]).float().unsqueeze(1).to(device)\n",
        "        country     = torch.Tensor(x[:,5]).float().unsqueeze(1).to(device)\n",
        "        age         = torch.Tensor(x[:,6]).float().unsqueeze(1).to(device)\n",
        "        # output\n",
        "        output      = model.forward(user, book, autor, year, publisher, country, age).to(device).sum(dim=1).item()\n",
        "        outputs.append(output)\n",
        "\n",
        "predict_data['PREDICT RATING'] = outputs\n",
        "\n",
        "recomendacao = predict_data.sort_values(by='PREDICT RATING', ascending=False)[:n_recomendacoes]\n",
        "recomendacao"
      ]
    },
    {
      "cell_type": "code",
      "execution_count": null,
      "metadata": {
        "id": "PvoJWrvLTuHL",
        "outputId": "6fdc8d42-ba39-45d9-a4a3-7cba10205332",
        "colab": {
          "base_uri": "https://localhost:8080/",
          "height": 795
        }
      },
      "outputs": [
        {
          "output_type": "display_data",
          "data": {
            "text/plain": [
              "<IPython.core.display.HTML object>"
            ],
            "text/html": [
              "<div><h3>1 - Titulo: Human Diversity In Education: An Integrative Approach</h3><h4>ISBN: 0070150672</h4><a href=\"http://images.amazon.com/images/P/0070150672.01.THUMBZZZ.jpg\" target=\"_blank\"><img src=\"http://images.amazon.com/images/P/0070150672.01.THUMBZZZ.jpg\"></a></div>"
            ]
          },
          "metadata": {}
        },
        {
          "output_type": "display_data",
          "data": {
            "text/plain": [
              "<IPython.core.display.HTML object>"
            ],
            "text/html": [
              "<div><h3>2 - Titulo: The Swiftness of Crows: Poems of Two Continents</h3><h4>ISBN: 0934910065</h4><a href=\"http://images.amazon.com/images/P/0934910065.01.THUMBZZZ.jpg\" target=\"_blank\"><img src=\"http://images.amazon.com/images/P/0934910065.01.THUMBZZZ.jpg\"></a></div>"
            ]
          },
          "metadata": {}
        },
        {
          "output_type": "display_data",
          "data": {
            "text/plain": [
              "<IPython.core.display.HTML object>"
            ],
            "text/html": [
              "<div><h3>3 - Titulo: The Protocols (TCP/IP Illustrated, Volume 1)</h3><h4>ISBN: 0201633469</h4><a href=\"http://images.amazon.com/images/P/0201633469.01.THUMBZZZ.jpg\" target=\"_blank\"><img src=\"http://images.amazon.com/images/P/0201633469.01.THUMBZZZ.jpg\"></a></div>"
            ]
          },
          "metadata": {}
        },
        {
          "output_type": "display_data",
          "data": {
            "text/plain": [
              "<IPython.core.display.HTML object>"
            ],
            "text/html": [
              "<div><h3>4 - Titulo: The Facts of Life: Stories, 1940-1949 (His the Collected Stories ; V. 3)</h3><h4>ISBN: 0876853564</h4><a href=\"http://images.amazon.com/images/P/0876853564.01.THUMBZZZ.jpg\" target=\"_blank\"><img src=\"http://images.amazon.com/images/P/0876853564.01.THUMBZZZ.jpg\"></a></div>"
            ]
          },
          "metadata": {}
        },
        {
          "output_type": "display_data",
          "data": {
            "text/plain": [
              "<IPython.core.display.HTML object>"
            ],
            "text/html": [
              "<div><h3>5 - Titulo: Bury Me With Soldiers: One Grunt's Honest Story About Vietnam</h3><h4>ISBN: 1410706575</h4><a href=\"http://images.amazon.com/images/P/1410706575.01.THUMBZZZ.jpg\" target=\"_blank\"><img src=\"http://images.amazon.com/images/P/1410706575.01.THUMBZZZ.jpg\"></a></div>"
            ]
          },
          "metadata": {}
        }
      ],
      "source": [
        "#Exibir a lista de recomendação com as imagens dos livros.\n",
        "n = 1\n",
        "for  _, row in recomendacao.iterrows():\n",
        "\n",
        "    title = f'{n} - Titulo: {row[\"Book-Title\"]}'\n",
        "    isbn = f'ISBN: {row[\"ISBN\"]}'\n",
        "    url = row['Image-URL-S']\n",
        "    display(HTML(f'<div><h3>{title}</h3><h4>{isbn}</h4><a href=\"{url}\" target=\"_blank\"><img src=\"{url}\"></a></div>'))\n",
        "    n+=1"
      ]
    }
  ],
  "metadata": {
    "kernelspec": {
      "display_name": "Python 3 (ipykernel)",
      "language": "python",
      "name": "python3"
    },
    "language_info": {
      "codemirror_mode": {
        "name": "ipython",
        "version": 3
      },
      "file_extension": ".py",
      "mimetype": "text/x-python",
      "name": "python",
      "nbconvert_exporter": "python",
      "pygments_lexer": "ipython3",
      "version": "3.11.7"
    },
    "colab": {
      "provenance": [],
      "include_colab_link": true
    }
  },
  "nbformat": 4,
  "nbformat_minor": 0
}